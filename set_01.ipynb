{
  "cells": [
    {
      "cell_type": "markdown",
      "metadata": {
        "id": "view-in-github",
        "colab_type": "text"
      },
      "source": [
        "<a href=\"https://colab.research.google.com/github/Sonsha2004/test-project/blob/main/set_01.ipynb\" target=\"_parent\"><img src=\"https://colab.research.google.com/assets/colab-badge.svg\" alt=\"Open In Colab\"/></a>"
      ]
    },
    {
      "cell_type": "code",
      "execution_count": null,
      "metadata": {
        "colab": {
          "base_uri": "https://localhost:8080/"
        },
        "id": "16_0_AxflxrE",
        "outputId": "f77ca653-7673-4355-ea20-0b76edc821d1"
      },
      "outputs": [
        {
          "name": "stdout",
          "output_type": "stream",
          "text": [
            "enter the b=5\n",
            "enter the h=6\n",
            "area of triangle= 15.0\n",
            "enter the a=5\n",
            "enter the b=6\n",
            "emter the c=7\n",
            "peimeter triangle= 210\n"
          ]
        }
      ],
      "source": [
        "#To find area and perimeter\n",
        "#Triangle area=1/2*b*h\n",
        "\n",
        "b=int(input(\"enter the b=\"))\n",
        "h=int(input(\"enter the h=\"))\n",
        "area=0.5*b*h\n",
        "print(\"area of triangle=\",area)\n",
        "#triangle perimeter=a+b+c\n",
        "a=int(input(\"enter the a=\"))\n",
        "b=int(input(\"enter the b=\"))\n",
        "c=int(input(\"emter the c=\"))\n",
        "perimeter=a*b*c\n",
        "print(\"peimeter triangle=\",perimeter)\n",
        "\n"
      ]
    },
    {
      "cell_type": "code",
      "execution_count": null,
      "metadata": {
        "colab": {
          "base_uri": "https://localhost:8080/"
        },
        "id": "D70GlrWpqsDx",
        "outputId": "f014fdeb-ad16-4f85-b717-f9fbc526840c"
      },
      "outputs": [
        {
          "name": "stdout",
          "output_type": "stream",
          "text": [
            "A\n",
            "I\n",
            "T\n"
          ]
        }
      ],
      "source": [
        "  for var in \"ABIT\":\n",
        "    if var==\"B\":\n",
        "       continue\n",
        "    print (var)"
      ]
    },
    {
      "cell_type": "code",
      "execution_count": null,
      "metadata": {
        "colab": {
          "base_uri": "https://localhost:8080/"
        },
        "id": "PqHYvL4YsSQt",
        "outputId": "5ce61de0-3c09-474e-d4ba-50b8c9a054c7"
      },
      "outputs": [
        {
          "name": "stdout",
          "output_type": "stream",
          "text": [
            "0\n",
            "1\n",
            "2\n",
            "3\n",
            "4\n",
            "5\n"
          ]
        }
      ],
      "source": [
        "  for i in range(10):\n",
        "   print(i)\n",
        "   if i==5:\n",
        "     break"
      ]
    },
    {
      "cell_type": "code",
      "execution_count": null,
      "metadata": {
        "colab": {
          "base_uri": "https://localhost:8080/"
        },
        "id": "m_xlW7xdtmx-",
        "outputId": "74a847fb-20e4-4152-f528-ff159d190e62"
      },
      "outputs": [
        {
          "name": "stdout",
          "output_type": "stream",
          "text": [
            "3.35\n"
          ]
        }
      ],
      "source": [
        "#abs()\n",
        "x=abs(-3.35)\n",
        "print(x)\n"
      ]
    },
    {
      "cell_type": "code",
      "execution_count": null,
      "metadata": {
        "colab": {
          "base_uri": "https://localhost:8080/"
        },
        "id": "UUYk2zEjvN1s",
        "outputId": "09df6db7-2867-43db-cb77-4355622c6306"
      },
      "outputs": [
        {
          "name": "stdout",
          "output_type": "stream",
          "text": [
            "False\n"
          ]
        }
      ],
      "source": [
        "#all()\n",
        "list=[0,2,2]\n",
        "a=all(list)\n",
        "print(a)\n"
      ]
    },
    {
      "cell_type": "code",
      "execution_count": null,
      "metadata": {
        "colab": {
          "background_save": true
        },
        "id": "eHGMc850wXok",
        "outputId": "8872b4c0-58ae-4bf2-aa8f-7b91594a4d1d"
      },
      "outputs": [
        {
          "ename": "TypeError",
          "evalue": "'type' object is not iterable",
          "output_type": "error",
          "traceback": [
            "\u001b[0;31m---------------------------------------------------------------------------\u001b[0m",
            "\u001b[0;31mTypeError\u001b[0m                                 Traceback (most recent call last)",
            "\u001b[0;32m<ipython-input-36-035a4d0d5121>\u001b[0m in \u001b[0;36m<cell line: 2>\u001b[0;34m()\u001b[0m\n\u001b[1;32m      1\u001b[0m \u001b[0;31m#any()\u001b[0m\u001b[0;34m\u001b[0m\u001b[0;34m\u001b[0m\u001b[0m\n\u001b[0;32m----> 2\u001b[0;31m \u001b[0mp\u001b[0m\u001b[0;34m=\u001b[0m\u001b[0many\u001b[0m\u001b[0;34m(\u001b[0m\u001b[0mtuple\u001b[0m\u001b[0;34m)\u001b[0m\u001b[0;34m\u001b[0m\u001b[0;34m\u001b[0m\u001b[0m\n\u001b[0m\u001b[1;32m      3\u001b[0m \u001b[0mprint\u001b[0m\u001b[0;34m(\u001b[0m\u001b[0mp\u001b[0m\u001b[0;34m)\u001b[0m\u001b[0;34m\u001b[0m\u001b[0;34m\u001b[0m\u001b[0m\n",
            "\u001b[0;31mTypeError\u001b[0m: 'type' object is not iterable"
          ]
        }
      ],
      "source": [
        "#any()\n",
        "A=any(tuple)\n",
        "print(A)"
      ]
    },
    {
      "cell_type": "code",
      "execution_count": null,
      "metadata": {
        "colab": {
          "background_save": true
        },
        "id": "1638zzu6xf41",
        "outputId": "bfa4cae7-3d88-4b70-b70c-edcca81770dc"
      },
      "outputs": [
        {
          "name": "stdout",
          "output_type": "stream",
          "text": [
            "'mostly sane'\n"
          ]
        }
      ],
      "source": [
        "#ascii()\n",
        "a=ascii(\"mostly sane\")\n",
        "print(a)"
      ]
    },
    {
      "cell_type": "code",
      "execution_count": null,
      "metadata": {
        "colab": {
          "background_save": true
        },
        "id": "dIsYseeBx4Sz",
        "outputId": "33ae5259-8dff-46d3-c207-f66f631157cc"
      },
      "outputs": [
        {
          "name": "stdout",
          "output_type": "stream",
          "text": [
            "0b11110\n"
          ]
        }
      ],
      "source": [
        "#bin()\n",
        "a=bin(30)\n",
        "print(a)"
      ]
    },
    {
      "cell_type": "code",
      "execution_count": null,
      "metadata": {
        "colab": {
          "background_save": true
        },
        "id": "i1cRZ09TyG8U"
      },
      "outputs": [],
      "source": [
        "b"
      ]
    }
  ],
  "metadata": {
    "colab": {
      "provenance": [],
      "authorship_tag": "ABX9TyPiq8T1Qt4eq/qfyBxXXaUj",
      "include_colab_link": true
    },
    "kernelspec": {
      "display_name": "Python 3",
      "name": "python3"
    },
    "language_info": {
      "name": "python"
    }
  },
  "nbformat": 4,
  "nbformat_minor": 0
}